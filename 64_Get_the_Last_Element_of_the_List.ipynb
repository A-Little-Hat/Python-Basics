{
  "nbformat": 4,
  "nbformat_minor": 0,
  "metadata": {
    "colab": {
      "name": "64.Get the Last Element of the List.ipynb",
      "provenance": [],
      "authorship_tag": "ABX9TyNsYbMbnkMZonhIH/Wy+bUk"
    },
    "kernelspec": {
      "name": "python3",
      "display_name": "Python 3"
    },
    "language_info": {
      "name": "python"
    }
  },
  "cells": [
    {
      "cell_type": "code",
      "metadata": {
        "id": "dzIDlFwtQeI-"
      },
      "source": [
        "my_list = [1,2,3,4,5,6,12]"
      ],
      "execution_count": 3,
      "outputs": []
    },
    {
      "cell_type": "code",
      "metadata": {
        "colab": {
          "base_uri": "https://localhost:8080/"
        },
        "id": "fvyUr5hEQjsc",
        "outputId": "10465a75-c56a-4a75-d1b4-e1a8188d9779"
      },
      "source": [
        "print(my_list[-1])"
      ],
      "execution_count": 4,
      "outputs": [
        {
          "output_type": "stream",
          "text": [
            "12\n"
          ],
          "name": "stdout"
        }
      ]
    },
    {
      "cell_type": "code",
      "metadata": {
        "id": "7OHXXUQpQnCY"
      },
      "source": [
        ""
      ],
      "execution_count": null,
      "outputs": []
    }
  ]
}