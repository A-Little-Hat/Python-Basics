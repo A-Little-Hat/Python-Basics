{
  "nbformat": 4,
  "nbformat_minor": 0,
  "metadata": {
    "colab": {
      "name": "29.calculator.ipynb",
      "provenance": [],
      "authorship_tag": "ABX9TyM0UJbRdkbIXlIHtSaSfFzs",
      "include_colab_link": true
    },
    "kernelspec": {
      "name": "python3",
      "display_name": "Python 3"
    },
    "language_info": {
      "name": "python"
    }
  },
  "cells": [
    {
      "cell_type": "markdown",
      "metadata": {
        "id": "view-in-github",
        "colab_type": "text"
      },
      "source": [
        "<a href=\"https://colab.research.google.com/github/A-Little-Hat/Python-Basics/blob/main/29_calculator.ipynb\" target=\"_parent\"><img src=\"https://colab.research.google.com/assets/colab-badge.svg\" alt=\"Open In Colab\"/></a>"
      ]
    },
    {
      "cell_type": "code",
      "metadata": {
        "colab": {
          "base_uri": "https://localhost:8080/"
        },
        "id": "Boq3AB8bVJlr",
        "outputId": "8de6644d-766b-4536-b1da-c62b9c2573d3"
      },
      "source": [
        "while True:\n",
        "  x=int(input(\"1. add\\n2. sub\\n3. mul\\n4. div\\n5. exit\\n\"))\n",
        "  if x==1:\n",
        "    a=int(input(\"enter a number\"))\n",
        "    b=int(input(\"enter a number\"))\n",
        "    print(a+b)\n",
        "  if x==2:\n",
        "    a=int(input(\"enter a number\"))\n",
        "    b=int(input(\"enter a number\"))\n",
        "    print(a-b)\n",
        "  if x==3:\n",
        "    a=int(input(\"enter a number\"))\n",
        "    b=int(input(\"enter a number\"))\n",
        "    print(a*b)\n",
        "  if x==4:\n",
        "    a=int(input(\"enter a number\"))\n",
        "    b=int(input(\"enter a number\"))\n",
        "    print(a/b)\n",
        "  if x==5:\n",
        "    break\n",
        "  else:\n",
        "    print(\"wrong input\")"
      ],
      "execution_count": 3,
      "outputs": [
        {
          "output_type": "stream",
          "text": [
            "1. add\n",
            "2. sub\n",
            "3. mul\n",
            "4. div\n",
            "5. exit\n",
            "1\n",
            "enter a number10\n",
            "enter a number20\n",
            "30\n",
            "wrong input\n",
            "1. add\n",
            "2. sub\n",
            "3. mul\n",
            "4. div\n",
            "5. exit\n",
            "2\n",
            "enter a number10\n",
            "enter a number20\n",
            "-10\n",
            "wrong input\n",
            "1. add\n",
            "2. sub\n",
            "3. mul\n",
            "4. div\n",
            "5. exit\n",
            "3\n",
            "enter a number10\n",
            "enter a number20\n",
            "200\n",
            "wrong input\n",
            "1. add\n",
            "2. sub\n",
            "3. mul\n",
            "4. div\n",
            "5. exit\n",
            "4\n",
            "enter a number10\n",
            "enter a number20\n",
            "0.5\n",
            "wrong input\n",
            "1. add\n",
            "2. sub\n",
            "3. mul\n",
            "4. div\n",
            "5. exit\n",
            "5\n"
          ],
          "name": "stdout"
        }
      ]
    }
  ]
}