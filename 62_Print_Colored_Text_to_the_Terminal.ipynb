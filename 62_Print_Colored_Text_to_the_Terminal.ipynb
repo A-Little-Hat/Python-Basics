{
  "nbformat": 4,
  "nbformat_minor": 0,
  "metadata": {
    "colab": {
      "name": "62.Print Colored Text to the Terminal.ipynb",
      "provenance": [],
      "authorship_tag": "ABX9TyOUcd17IUqH5lGDnUj2RQnP"
    },
    "kernelspec": {
      "name": "python3",
      "display_name": "Python 3"
    },
    "language_info": {
      "name": "python"
    }
  },
  "cells": [
    {
      "cell_type": "code",
      "metadata": {
        "id": "5BAnx-ct2V7o",
        "colab": {
          "base_uri": "https://localhost:8080/"
        },
        "outputId": "53d5931c-6313-4220-809b-583457f3f7a7"
      },
      "source": [
        "x= input(\"enter a text\")"
      ],
      "execution_count": 1,
      "outputs": [
        {
          "output_type": "stream",
          "text": [
            "enter a textA-Little-Hat\n"
          ],
          "name": "stdout"
        }
      ]
    },
    {
      "cell_type": "code",
      "metadata": {
        "colab": {
          "base_uri": "https://localhost:8080/"
        },
        "id": "uZjiPnEMP0Dl",
        "outputId": "013334df-903c-4e30-d49b-b822e80bb2b1"
      },
      "source": [
        "print('\\x1b[38;2;5;86;243m' + x + '\\x1b[0m')"
      ],
      "execution_count": 2,
      "outputs": [
        {
          "output_type": "stream",
          "text": [
            "\u001b[38;2;5;86;243mA-Little-Hat\u001b[0m\n"
          ],
          "name": "stdout"
        }
      ]
    },
    {
      "cell_type": "code",
      "metadata": {
        "id": "pwhH4G_5P2sE"
      },
      "source": [
        ""
      ],
      "execution_count": 2,
      "outputs": []
    }
  ]
}