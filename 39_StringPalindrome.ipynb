{
  "nbformat": 4,
  "nbformat_minor": 0,
  "metadata": {
    "colab": {
      "name": "39.StringPalindrome.ipynb",
      "provenance": [],
      "authorship_tag": "ABX9TyPnN7bi8Kj/7YzPk1JYgsEr"
    },
    "kernelspec": {
      "name": "python3",
      "display_name": "Python 3"
    },
    "language_info": {
      "name": "python"
    }
  },
  "cells": [
    {
      "cell_type": "code",
      "metadata": {
        "colab": {
          "base_uri": "https://localhost:8080/"
        },
        "id": "XH7SzB24hnOX",
        "outputId": "0128bf3b-e05c-4721-fd4a-233cf8b0820d"
      },
      "source": [
        "x=input(\"enter a string : \")"
      ],
      "execution_count": 10,
      "outputs": [
        {
          "output_type": "stream",
          "text": [
            "enter a string : madam\n"
          ],
          "name": "stdout"
        }
      ]
    },
    {
      "cell_type": "code",
      "metadata": {
        "id": "6TOFSxH0p370"
      },
      "source": [
        "y=x[::-1]"
      ],
      "execution_count": 13,
      "outputs": []
    },
    {
      "cell_type": "code",
      "metadata": {
        "colab": {
          "base_uri": "https://localhost:8080/"
        },
        "id": "U9mfremKqIHC",
        "outputId": "490038c2-4ee5-4c81-eed6-a16278f687e7"
      },
      "source": [
        "if(y==x):\n",
        "  print(\"palindrome\")\n",
        "else:\n",
        "  print(\"not palindrome\")"
      ],
      "execution_count": 14,
      "outputs": [
        {
          "output_type": "stream",
          "text": [
            "palindrome\n"
          ],
          "name": "stdout"
        }
      ]
    }
  ]
}