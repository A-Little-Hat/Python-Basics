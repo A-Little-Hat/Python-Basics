{
  "nbformat": 4,
  "nbformat_minor": 0,
  "metadata": {
    "colab": {
      "name": "65.Get a Substring of a String.ipynb",
      "provenance": [],
      "authorship_tag": "ABX9TyOZdvpJScGUQbNd5x4jN4WI"
    },
    "kernelspec": {
      "name": "python3",
      "display_name": "Python 3"
    },
    "language_info": {
      "name": "python"
    }
  },
  "cells": [
    {
      "cell_type": "code",
      "metadata": {
        "id": "PXoQfbhLtRR5"
      },
      "source": [
        "my_string = \"I love python.\""
      ],
      "execution_count": 1,
      "outputs": []
    },
    {
      "cell_type": "code",
      "metadata": {
        "colab": {
          "base_uri": "https://localhost:8080/"
        },
        "id": "tYh1oN1PtWWG",
        "outputId": "20df9aed-b1b7-4e04-9680-55b5651da593"
      },
      "source": [
        "print(my_string[2:6])"
      ],
      "execution_count": 2,
      "outputs": [
        {
          "output_type": "stream",
          "text": [
            "love\n"
          ],
          "name": "stdout"
        }
      ]
    },
    {
      "cell_type": "code",
      "metadata": {
        "colab": {
          "base_uri": "https://localhost:8080/"
        },
        "id": "Ezx1yqmetaWE",
        "outputId": "64f28d71-e223-4582-9375-caf29a80a8a3"
      },
      "source": [
        "print(my_string[2:])"
      ],
      "execution_count": 3,
      "outputs": [
        {
          "output_type": "stream",
          "text": [
            "love python.\n"
          ],
          "name": "stdout"
        }
      ]
    },
    {
      "cell_type": "code",
      "metadata": {
        "colab": {
          "base_uri": "https://localhost:8080/"
        },
        "id": "BwioC1e0teq7",
        "outputId": "07265b59-5253-4dde-b768-72b82b1518e5"
      },
      "source": [
        "print(my_string[:-1])"
      ],
      "execution_count": 4,
      "outputs": [
        {
          "output_type": "stream",
          "text": [
            "I love python\n"
          ],
          "name": "stdout"
        }
      ]
    },
    {
      "cell_type": "code",
      "metadata": {
        "id": "doFL3FR7tgrp"
      },
      "source": [
        ""
      ],
      "execution_count": null,
      "outputs": []
    }
  ]
}