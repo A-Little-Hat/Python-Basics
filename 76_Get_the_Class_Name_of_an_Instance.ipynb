{
  "nbformat": 4,
  "nbformat_minor": 0,
  "metadata": {
    "colab": {
      "name": "76.Get the Class Name of an Instance.ipynb",
      "provenance": [],
      "authorship_tag": "ABX9TyNKROWW3jYUyuVBDpbGcoap"
    },
    "kernelspec": {
      "name": "python3",
      "display_name": "Python 3"
    },
    "language_info": {
      "name": "python"
    }
  },
  "cells": [
    {
      "cell_type": "code",
      "metadata": {
        "id": "O7A2tbKSuKj2"
      },
      "source": [
        "class Car:\n",
        "    def name(self, name):\n",
        "        return name"
      ],
      "execution_count": 5,
      "outputs": []
    },
    {
      "cell_type": "code",
      "metadata": {
        "id": "YmjeZpuLuQK_"
      },
      "source": [
        "c=Car()"
      ],
      "execution_count": 7,
      "outputs": []
    },
    {
      "cell_type": "code",
      "metadata": {
        "colab": {
          "base_uri": "https://localhost:8080/"
        },
        "id": "97WcpHUVuYgk",
        "outputId": "2539802b-f43a-4b47-ed87-ae6817b58ceb"
      },
      "source": [
        "print(c.__class__.__name__)"
      ],
      "execution_count": 8,
      "outputs": [
        {
          "output_type": "stream",
          "text": [
            "Car\n"
          ],
          "name": "stdout"
        }
      ]
    },
    {
      "cell_type": "code",
      "metadata": {
        "id": "ywpedqf6ukZv"
      },
      "source": [
        ""
      ],
      "execution_count": null,
      "outputs": []
    }
  ]
}