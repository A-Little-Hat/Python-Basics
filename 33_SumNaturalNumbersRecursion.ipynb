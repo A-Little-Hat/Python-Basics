{
  "nbformat": 4,
  "nbformat_minor": 0,
  "metadata": {
    "colab": {
      "name": "33.SumNaturalNumbersRecursion.ipynb",
      "provenance": [],
      "collapsed_sections": [],
      "authorship_tag": "ABX9TyOm9yRJUsgurQ76DNpcB4uL"
    },
    "kernelspec": {
      "name": "python3",
      "display_name": "Python 3"
    },
    "language_info": {
      "name": "python"
    }
  },
  "cells": [
    {
      "cell_type": "code",
      "metadata": {
        "colab": {
          "base_uri": "https://localhost:8080/"
        },
        "id": "xbPGNILXISNV",
        "outputId": "3fbeabed-78c9-48b8-dfce-5f20b4875b66"
      },
      "source": [
        "n=int(input(\"enter the limit\"))\n",
        "def add(n):\n",
        "  if(n<=0):\n",
        "    return 0\n",
        "  else:\n",
        "    return n+add(n-1)\n",
        "print(add(n))"
      ],
      "execution_count": 3,
      "outputs": [
        {
          "output_type": "stream",
          "text": [
            "enter the limit100\n",
            "5050\n"
          ],
          "name": "stdout"
        }
      ]
    }
  ]
}