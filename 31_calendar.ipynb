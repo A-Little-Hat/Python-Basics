{
  "nbformat": 4,
  "nbformat_minor": 0,
  "metadata": {
    "colab": {
      "name": "31.calendar.ipynb",
      "provenance": [],
      "authorship_tag": "ABX9TyP4u2IPMyzFH25Ox72m2QpK"
    },
    "kernelspec": {
      "name": "python3",
      "display_name": "Python 3"
    },
    "language_info": {
      "name": "python"
    }
  },
  "cells": [
    {
      "cell_type": "code",
      "metadata": {
        "colab": {
          "base_uri": "https://localhost:8080/"
        },
        "id": "QWS9LuDtERTd",
        "outputId": "1687a30f-b708-42c8-e645-738a1583569b"
      },
      "source": [
        "import calendar\n",
        "year=int(input(\"enter a year \"))\n",
        "month=int(input(\"enter a month \"))\n",
        "print(calendar.month(year,month))"
      ],
      "execution_count": 2,
      "outputs": [
        {
          "output_type": "stream",
          "text": [
            "enter a year 2021\n",
            "enter a month 4\n",
            "     April 2021\n",
            "Mo Tu We Th Fr Sa Su\n",
            "          1  2  3  4\n",
            " 5  6  7  8  9 10 11\n",
            "12 13 14 15 16 17 18\n",
            "19 20 21 22 23 24 25\n",
            "26 27 28 29 30\n",
            "\n"
          ],
          "name": "stdout"
        }
      ]
    }
  ]
}