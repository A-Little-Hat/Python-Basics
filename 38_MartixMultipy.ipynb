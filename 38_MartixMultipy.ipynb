{
  "nbformat": 4,
  "nbformat_minor": 0,
  "metadata": {
    "colab": {
      "name": "38.MartixMultipy.ipynb",
      "provenance": [],
      "authorship_tag": "ABX9TyNlINmHeHrRYHtG6yzyuE/L"
    },
    "kernelspec": {
      "name": "python3",
      "display_name": "Python 3"
    },
    "language_info": {
      "name": "python"
    }
  },
  "cells": [
    {
      "cell_type": "code",
      "metadata": {
        "colab": {
          "base_uri": "https://localhost:8080/"
        },
        "id": "XH7SzB24hnOX",
        "outputId": "d9c21e0a-1f8a-4ae4-f7b4-d520142ff3dd"
      },
      "source": [
        "x = [[12,7,3],[4 ,5,7],[3 ,8,10]]\n",
        "y = [[12,7,3],[4 ,5,6],[7 ,8,9]]\n",
        "result=[[0,0,0],[0,0,0],[0,0,0]]\n",
        "for i in range(len(x)):\n",
        "   for j in range(len(y[0])):\n",
        "       for k in range(len(y)):\n",
        "           result[i][j] += x[i][k] * y[k][j]\n",
        "print(result)"
      ],
      "execution_count": 8,
      "outputs": [
        {
          "output_type": "stream",
          "text": [
            "[[193, 143, 105], [117, 109, 105], [138, 141, 147]]\n"
          ],
          "name": "stdout"
        }
      ]
    }
  ]
}