{
  "nbformat": 4,
  "nbformat_minor": 0,
  "metadata": {
    "colab": {
      "name": "36.AddMatrix.ipynb",
      "provenance": [],
      "authorship_tag": "ABX9TyMyhbQAi50K4CZSJjqspo/L"
    },
    "kernelspec": {
      "name": "python3",
      "display_name": "Python 3"
    },
    "language_info": {
      "name": "python"
    }
  },
  "cells": [
    {
      "cell_type": "code",
      "metadata": {
        "colab": {
          "base_uri": "https://localhost:8080/"
        },
        "id": "PrsYZv2MfOlL",
        "outputId": "0ee8bbf4-30fc-4232-af71-e14157c55593"
      },
      "source": [
        "x=[[1,2,3,4],[4,3,2,1]]\n",
        "y=[[4,3,2,1],[1,2,3,4]]\n",
        "z=[[0,0,0,0],[0,0,0,0]]\n",
        "for i in range(len(x)):\n",
        "  for j in range(len(x[0])):\n",
        "    z[i][j]=x[i][j]+y[i][j]\n",
        "print(z)"
      ],
      "execution_count": 1,
      "outputs": [
        {
          "output_type": "stream",
          "text": [
            "[[5, 5, 5, 5], [5, 5, 5, 5]]\n"
          ],
          "name": "stdout"
        }
      ]
    }
  ]
}