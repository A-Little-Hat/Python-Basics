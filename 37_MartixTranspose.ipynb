{
  "nbformat": 4,
  "nbformat_minor": 0,
  "metadata": {
    "colab": {
      "name": "37.MartixTranspose.ipynb",
      "provenance": [],
      "authorship_tag": "ABX9TyPJR8S5uGssNujTFaJtpuru"
    },
    "kernelspec": {
      "name": "python3",
      "display_name": "Python 3"
    },
    "language_info": {
      "name": "python"
    }
  },
  "cells": [
    {
      "cell_type": "code",
      "metadata": {
        "colab": {
          "base_uri": "https://localhost:8080/"
        },
        "id": "XH7SzB24hnOX",
        "outputId": "f6660691-d339-4829-b746-defd0615bf27"
      },
      "source": [
        "X = [[12,7],\n",
        "    [4 ,5],\n",
        "    [3 ,8]]\n",
        "for i in range(len(X[0])):\n",
        "  for j in range(len(X)):\n",
        "    print(X[j][i],\"\\t\",end='')\n",
        "  print()"
      ],
      "execution_count": 4,
      "outputs": [
        {
          "output_type": "stream",
          "text": [
            "12 \t4 \t3 \t\n",
            "7 \t5 \t8 \t\n"
          ],
          "name": "stdout"
        }
      ]
    }
  ]
}