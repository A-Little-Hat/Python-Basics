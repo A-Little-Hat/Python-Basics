{
  "nbformat": 4,
  "nbformat_minor": 0,
  "metadata": {
    "colab": {
      "name": "90.Reverse a Number.ipynb",
      "provenance": [],
      "authorship_tag": "ABX9TyMsH64yIAjQKBY+7iyNZnp6"
    },
    "kernelspec": {
      "name": "python3",
      "display_name": "Python 3"
    },
    "language_info": {
      "name": "python"
    }
  },
  "cells": [
    {
      "cell_type": "code",
      "metadata": {
        "colab": {
          "base_uri": "https://localhost:8080/"
        },
        "id": "41ldgMRWlgVM",
        "outputId": "d96edbbe-dafa-4abe-abcc-cbc2661271bc"
      },
      "source": [
        "num = int(input(\"enter number : \"))"
      ],
      "execution_count": 10,
      "outputs": [
        {
          "output_type": "stream",
          "text": [
            "enter number : 1234\n"
          ],
          "name": "stdout"
        }
      ]
    },
    {
      "cell_type": "code",
      "metadata": {
        "id": "ZDFAuhLal1dv"
      },
      "source": [
        "def rev(num):\n",
        "  revNum = 0\n",
        "  while num != 0:\n",
        "    digit = num % 10\n",
        "    revNum = revNum * 10 + digit\n",
        "    num //= 10\n",
        "  return revNum"
      ],
      "execution_count": 13,
      "outputs": []
    },
    {
      "cell_type": "code",
      "metadata": {
        "id": "mHfYWjhLmOSn"
      },
      "source": [
        "reversedNumber = rev(num)"
      ],
      "execution_count": 14,
      "outputs": []
    },
    {
      "cell_type": "code",
      "metadata": {
        "colab": {
          "base_uri": "https://localhost:8080/"
        },
        "id": "v8Gx8EGnnbUZ",
        "outputId": "88c352d1-3d04-4e5a-9a82-1195ffc564f8"
      },
      "source": [
        "print(reversedNumber)"
      ],
      "execution_count": 15,
      "outputs": [
        {
          "output_type": "stream",
          "text": [
            "4321\n"
          ],
          "name": "stdout"
        }
      ]
    },
    {
      "cell_type": "code",
      "metadata": {
        "id": "UTz8V3A7neib"
      },
      "source": [
        ""
      ],
      "execution_count": null,
      "outputs": []
    }
  ]
}