{
  "nbformat": 4,
  "nbformat_minor": 0,
  "metadata": {
    "colab": {
      "name": "47.Create Pyramid Patterns.ipynb",
      "provenance": [],
      "authorship_tag": "ABX9TyMmz+xcADgrIzJjjCmyOZff"
    },
    "kernelspec": {
      "name": "python3",
      "display_name": "Python 3"
    },
    "language_info": {
      "name": "python"
    }
  },
  "cells": [
    {
      "cell_type": "code",
      "metadata": {
        "id": "qvu10v2zYkXV"
      },
      "source": [
        "def pattern(n):\n",
        "\tfor i in range(0, n):\n",
        "\t\tfor j in range(0, i+1):\n",
        "\t\t\tprint(\"* \",end=\"\")\n",
        "\t\tprint(\"\\r\")\n"
      ],
      "execution_count": 1,
      "outputs": []
    },
    {
      "cell_type": "code",
      "metadata": {
        "colab": {
          "base_uri": "https://localhost:8080/"
        },
        "id": "z2OfQcdXY1ro",
        "outputId": "12a14cfc-3862-4040-ba19-e27112522fcf"
      },
      "source": [
        "n = int(input(\"enter a number\"))"
      ],
      "execution_count": 2,
      "outputs": [
        {
          "output_type": "stream",
          "text": [
            "enter a number5\n"
          ],
          "name": "stdout"
        }
      ]
    },
    {
      "cell_type": "code",
      "metadata": {
        "colab": {
          "base_uri": "https://localhost:8080/"
        },
        "id": "mcKtmDqDY-DG",
        "outputId": "8d2d79f3-c98e-4896-92c5-0805e216e845"
      },
      "source": [
        "pattern(n)"
      ],
      "execution_count": 3,
      "outputs": [
        {
          "output_type": "stream",
          "text": [
            "* \r\n",
            "* * \r\n",
            "* * * \r\n",
            "* * * * \r\n",
            "* * * * * \r\n"
          ],
          "name": "stdout"
        }
      ]
    },
    {
      "cell_type": "code",
      "metadata": {
        "id": "gHFrzK83Y_WI"
      },
      "source": [
        ""
      ],
      "execution_count": null,
      "outputs": []
    }
  ]
}