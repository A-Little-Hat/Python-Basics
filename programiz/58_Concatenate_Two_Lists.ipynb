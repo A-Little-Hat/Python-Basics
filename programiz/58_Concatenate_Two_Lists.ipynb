{
  "nbformat": 4,
  "nbformat_minor": 0,
  "metadata": {
    "colab": {
      "name": "58.Concatenate Two Lists.ipynb",
      "provenance": [],
      "authorship_tag": "ABX9TyNj68nW3xCJikgMmIJ789F2"
    },
    "kernelspec": {
      "name": "python3",
      "display_name": "Python 3"
    },
    "language_info": {
      "name": "python"
    }
  },
  "cells": [
    {
      "cell_type": "code",
      "metadata": {
        "id": "JZ7l-ys4bBER"
      },
      "source": [
        "myList = [\"👋\", \"🤚\", \"🖐\", \"✋\", \"🖖\"]"
      ],
      "execution_count": 9,
      "outputs": []
    },
    {
      "cell_type": "code",
      "metadata": {
        "id": "AYMrTPZkppdP"
      },
      "source": [
        "myList2 = [\"👋🏻\", \"🤚🏻\", \"🖐🏻\", \"✋🏻\", \"🖖🏻\"]"
      ],
      "execution_count": 10,
      "outputs": []
    },
    {
      "cell_type": "code",
      "metadata": {
        "id": "3JX7_WQTp27p"
      },
      "source": [
        "newList = myList + myList2"
      ],
      "execution_count": 11,
      "outputs": []
    },
    {
      "cell_type": "code",
      "metadata": {
        "colab": {
          "base_uri": "https://localhost:8080/"
        },
        "id": "vFItn3j7p8jG",
        "outputId": "7faeb58b-3ef1-4226-c871-38b1e81461f2"
      },
      "source": [
        "print(newList)"
      ],
      "execution_count": 12,
      "outputs": [
        {
          "output_type": "stream",
          "text": [
            "['👋', '🤚', '🖐', '✋', '🖖', '👋🏻', '🤚🏻', '🖐🏻', '✋🏻', '🖖🏻']\n"
          ],
          "name": "stdout"
        }
      ]
    },
    {
      "cell_type": "code",
      "metadata": {
        "id": "EC0wFxIRp_GK"
      },
      "source": [
        ""
      ],
      "execution_count": null,
      "outputs": []
    }
  ]
}