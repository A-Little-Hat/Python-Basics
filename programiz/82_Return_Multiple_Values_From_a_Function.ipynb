{
  "nbformat": 4,
  "nbformat_minor": 0,
  "metadata": {
    "colab": {
      "name": "82.Return Multiple Values From a Function.ipynb",
      "provenance": [],
      "authorship_tag": "ABX9TyMLbiXAsid4AC707aZCzSIw"
    },
    "kernelspec": {
      "name": "python3",
      "display_name": "Python 3"
    },
    "language_info": {
      "name": "python"
    }
  },
  "cells": [
    {
      "cell_type": "code",
      "metadata": {
        "id": "Rantg2d3ilnX"
      },
      "source": [
        "def returnFunction():\n",
        "  x=input(\"enter your name\")\n",
        "  y=int(input(\"enter your age\"))\n",
        "  return x,y"
      ],
      "execution_count": 3,
      "outputs": []
    },
    {
      "cell_type": "code",
      "metadata": {
        "colab": {
          "base_uri": "https://localhost:8080/"
        },
        "id": "LX9e6ymhiwFt",
        "outputId": "897854b3-03be-4414-8476-4fd358b4801b"
      },
      "source": [
        "print(\"returning two value from a function.\")"
      ],
      "execution_count": 4,
      "outputs": [
        {
          "output_type": "stream",
          "text": [
            "returning two value from a function.\n"
          ],
          "name": "stdout"
        }
      ]
    },
    {
      "cell_type": "code",
      "metadata": {
        "colab": {
          "base_uri": "https://localhost:8080/"
        },
        "id": "jYcii9yAjXdx",
        "outputId": "b439e2dd-a265-46d1-8a7e-489f50dd4bfa"
      },
      "source": [
        "x,y=returnFunction()"
      ],
      "execution_count": 6,
      "outputs": [
        {
          "output_type": "stream",
          "text": [
            "enter your namesoumyaneel\n",
            "enter your age19\n"
          ],
          "name": "stdout"
        }
      ]
    },
    {
      "cell_type": "code",
      "metadata": {
        "colab": {
          "base_uri": "https://localhost:8080/"
        },
        "id": "8TCWyqsAkDxJ",
        "outputId": "a2939988-750a-40ab-8c93-20b2f0cb914e"
      },
      "source": [
        "print(\"name = \",x,\" age = \",y)"
      ],
      "execution_count": 7,
      "outputs": [
        {
          "output_type": "stream",
          "text": [
            "name =  soumyaneel  age =  19\n"
          ],
          "name": "stdout"
        }
      ]
    },
    {
      "cell_type": "code",
      "metadata": {
        "id": "fjt8xRe4kjMx"
      },
      "source": [
        ""
      ],
      "execution_count": null,
      "outputs": []
    }
  ]
}