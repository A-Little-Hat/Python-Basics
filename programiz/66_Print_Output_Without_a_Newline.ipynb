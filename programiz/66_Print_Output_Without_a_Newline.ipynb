{
  "nbformat": 4,
  "nbformat_minor": 0,
  "metadata": {
    "colab": {
      "name": "66.Print Output Without a Newline.ipynb",
      "provenance": [],
      "authorship_tag": "ABX9TyN3AflSzO8mIoBBYgArJcdf"
    },
    "kernelspec": {
      "name": "python3",
      "display_name": "Python 3"
    },
    "language_info": {
      "name": "python"
    }
  },
  "cells": [
    {
      "cell_type": "code",
      "metadata": {
        "id": "-SeRVwSERHre"
      },
      "source": [
        "a=\"hello world\""
      ],
      "execution_count": 5,
      "outputs": []
    },
    {
      "cell_type": "code",
      "metadata": {
        "id": "nJIfeqS1RNlA"
      },
      "source": [
        "b=\":PYTHON\""
      ],
      "execution_count": 6,
      "outputs": []
    },
    {
      "cell_type": "code",
      "metadata": {
        "colab": {
          "base_uri": "https://localhost:8080/"
        },
        "id": "8KxRo3p8RTIx",
        "outputId": "15978cdf-3d3e-42ed-eb6d-7b6618378f2f"
      },
      "source": [
        "print(a,end='')\n",
        "print(b)"
      ],
      "execution_count": 11,
      "outputs": [
        {
          "output_type": "stream",
          "text": [
            "hello world:PYTHON\n"
          ],
          "name": "stdout"
        }
      ]
    }
  ]
}