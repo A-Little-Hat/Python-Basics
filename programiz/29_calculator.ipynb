{
  "nbformat": 4,
  "nbformat_minor": 0,
  "metadata": {
    "colab": {
      "name": "29.calculator.ipynb",
      "provenance": [],
      "authorship_tag": "ABX9TyM0UJbRdkbIXlIHtSaSfFzs",
      "include_colab_link": true
    },
    "kernelspec": {
      "name": "python3",
      "display_name": "Python 3"
    },
    "language_info": {
      "name": "python"
    }
  },
  "cells": [
    {
      "cell_type": "code",
      "metadata": {
        "colab": {
          "base_uri": "https://localhost:8080/"
        },
        "id": "Boq3AB8bVJlr",
        "outputId": "8de6644d-766b-4536-b1da-c62b9c2573d3"
      },
      "source": [
        "while True:\n",
        "  x=int(input(\"1. add\\n2. sub\\n3. mul\\n4. div\\n5. exit\\n\"))\n",
        "  if x==1:\n",
        "    a=int(input(\"enter a number\"))\n",
        "    b=int(input(\"enter a number\"))\n",
        "    print(a+b)\n",
        "  if x==2:\n",
        "    a=int(input(\"enter a number\"))\n",
        "    b=int(input(\"enter a number\"))\n",
        "    print(a-b)\n",
        "  if x==3:\n",
        "    a=int(input(\"enter a number\"))\n",
        "    b=int(input(\"enter a number\"))\n",
        "    print(a*b)\n",
        "  if x==4:\n",
        "    a=int(input(\"enter a number\"))\n",
        "    b=int(input(\"enter a number\"))\n",
        "    print(a/b)\n",
        "  if x==5:\n",
        "    break\n",
        "  else:\n",
        "    print(\"wrong input\")"
      ],
      "execution_count": null,
      "outputs": []
    }
  ]
}