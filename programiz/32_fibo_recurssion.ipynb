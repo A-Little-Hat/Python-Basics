{
  "nbformat": 4,
  "nbformat_minor": 0,
  "metadata": {
    "colab": {
      "name": "32.fibo_recurssion.ipynb",
      "provenance": [],
      "authorship_tag": "ABX9TyPV6+ALQP9mIfLaOZusMO06"
    },
    "kernelspec": {
      "name": "python3",
      "display_name": "Python 3"
    },
    "language_info": {
      "name": "python"
    }
  },
  "cells": [
    {
      "cell_type": "code",
      "metadata": {
        "colab": {
          "base_uri": "https://localhost:8080/"
        },
        "id": "eat_CE5CFq6H",
        "outputId": "38fe781f-356a-4af8-8da7-7ee7bc0832e2"
      },
      "source": [
        "def fibo(n):\n",
        "  if(n<=1):\n",
        "    return n\n",
        "  else:\n",
        "    return (fibo(n-1)+fibo(n-2))\n",
        "n=int(input(\"enter terms\"))\n",
        "if n <= 0:\n",
        "   print(\"Plese enter a positive integer\")\n",
        "else:\n",
        "   print(\"Fibonacci sequence:\")\n",
        "   for i in range(n):\n",
        "       print(fibo(i))"
      ],
      "execution_count": 3,
      "outputs": [
        {
          "output_type": "stream",
          "text": [
            "enter terms10\n",
            "Fibonacci sequence:\n",
            "0\n",
            "1\n",
            "1\n",
            "2\n",
            "3\n",
            "5\n",
            "8\n",
            "13\n",
            "21\n",
            "34\n"
          ],
          "name": "stdout"
        }
      ]
    }
  ]
}