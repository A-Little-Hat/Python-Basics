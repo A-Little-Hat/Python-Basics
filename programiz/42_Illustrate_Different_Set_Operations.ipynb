{
  "nbformat": 4,
  "nbformat_minor": 0,
  "metadata": {
    "colab": {
      "name": "42.Illustrate Different Set Operations.ipynb",
      "provenance": [],
      "authorship_tag": "ABX9TyM0qTTDAUXW4KI5clAQ7J6P"
    },
    "kernelspec": {
      "name": "python3",
      "display_name": "Python 3"
    },
    "language_info": {
      "name": "python"
    }
  },
  "cells": [
    {
      "cell_type": "code",
      "metadata": {
        "id": "h93sjU5_0Wjs"
      },
      "source": [
        "E = {0, 2, 4, 6, 8};"
      ],
      "execution_count": 51,
      "outputs": []
    },
    {
      "cell_type": "code",
      "metadata": {
        "id": "ncZS2Awj0aQQ"
      },
      "source": [
        "N = {1, 2, 3, 4, 5};"
      ],
      "execution_count": 52,
      "outputs": []
    },
    {
      "cell_type": "code",
      "metadata": {
        "colab": {
          "base_uri": "https://localhost:8080/"
        },
        "id": "Q_oymBrv0c5N",
        "outputId": "efc62f3f-69e4-46e5-a36b-985d7ba7b71c"
      },
      "source": [
        "print(\"Union of E and N is\",E | N)"
      ],
      "execution_count": 53,
      "outputs": [
        {
          "output_type": "stream",
          "text": [
            "Union of E and N is {0, 1, 2, 3, 4, 5, 6, 8}\n"
          ],
          "name": "stdout"
        }
      ]
    },
    {
      "cell_type": "code",
      "metadata": {
        "colab": {
          "base_uri": "https://localhost:8080/"
        },
        "id": "F_Ppug0y0fZT",
        "outputId": "df6f8631-14cf-43dc-8d2e-07f8101c37d6"
      },
      "source": [
        "print(\"Intersection of E and N is\",E & N)"
      ],
      "execution_count": 54,
      "outputs": [
        {
          "output_type": "stream",
          "text": [
            "Intersection of E and N is {2, 4}\n"
          ],
          "name": "stdout"
        }
      ]
    },
    {
      "cell_type": "code",
      "metadata": {
        "colab": {
          "base_uri": "https://localhost:8080/"
        },
        "id": "OQ4j0PG40lpN",
        "outputId": "9aa420b2-21dc-43a5-c4ab-2a1e7b8044c5"
      },
      "source": [
        "print(\"Difference of E and N is\",E - N)"
      ],
      "execution_count": 55,
      "outputs": [
        {
          "output_type": "stream",
          "text": [
            "Difference of E and N is {0, 8, 6}\n"
          ],
          "name": "stdout"
        }
      ]
    },
    {
      "cell_type": "code",
      "metadata": {
        "colab": {
          "base_uri": "https://localhost:8080/"
        },
        "id": "hoNqL1Lq0oMG",
        "outputId": "1c20e596-d550-4876-ba46-636a8d7c83ed"
      },
      "source": [
        "print(\"Symmetric difference of E and N is\",E ^ N)"
      ],
      "execution_count": 56,
      "outputs": [
        {
          "output_type": "stream",
          "text": [
            "Symmetric difference of E and N is {0, 1, 3, 5, 6, 8}\n"
          ],
          "name": "stdout"
        }
      ]
    },
    {
      "cell_type": "code",
      "metadata": {
        "id": "uPXtyb5P0rPX"
      },
      "source": [
        ""
      ],
      "execution_count": null,
      "outputs": []
    }
  ]
}