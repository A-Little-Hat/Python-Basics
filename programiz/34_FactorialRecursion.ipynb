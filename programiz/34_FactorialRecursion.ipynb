{
  "nbformat": 4,
  "nbformat_minor": 0,
  "metadata": {
    "colab": {
      "name": "34.FactorialRecursion.ipynb",
      "provenance": [],
      "authorship_tag": "ABX9TyM71KQ1IrxDMkZCDTPudhIU"
    },
    "kernelspec": {
      "name": "python3",
      "display_name": "Python 3"
    },
    "language_info": {
      "name": "python"
    }
  },
  "cells": [
    {
      "cell_type": "code",
      "metadata": {
        "colab": {
          "base_uri": "https://localhost:8080/"
        },
        "id": "IJg2OpvwUfvI",
        "outputId": "f577a7ca-450f-416b-871d-89ec075f6fad"
      },
      "source": [
        "n=int(input(\"enter a number \"))\n",
        "def fact(n):\n",
        "  if(n>=2):\n",
        "    return n*fact(n-1)\n",
        "  if(n<0):\n",
        "    return print(\"wrong input\")\n",
        "  else:\n",
        "    return 1\n",
        "print(fact(n))"
      ],
      "execution_count": 4,
      "outputs": [
        {
          "output_type": "stream",
          "text": [
            "enter a number 6\n",
            "720\n"
          ],
          "name": "stdout"
        }
      ]
    }
  ]
}