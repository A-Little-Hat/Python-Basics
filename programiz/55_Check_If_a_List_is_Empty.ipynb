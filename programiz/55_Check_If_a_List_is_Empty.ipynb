{
  "nbformat": 4,
  "nbformat_minor": 0,
  "metadata": {
    "colab": {
      "name": "55.Check If a List is Empty.ipynb",
      "provenance": [],
      "authorship_tag": "ABX9TyOO4m+NND0eOF6SalAEflH0"
    },
    "kernelspec": {
      "name": "python3",
      "display_name": "Python 3"
    },
    "language_info": {
      "name": "python"
    }
  },
  "cells": [
    {
      "cell_type": "code",
      "metadata": {
        "id": "ywpedqf6ukZv"
      },
      "source": [
        "myList = [\"😁\", \"😆\", \"😅\", \"😂\", \"🤣\"]"
      ],
      "execution_count": 5,
      "outputs": []
    },
    {
      "cell_type": "code",
      "metadata": {
        "id": "Dw67DAZMaAyr"
      },
      "source": [
        "myList2 = []"
      ],
      "execution_count": 6,
      "outputs": []
    },
    {
      "cell_type": "code",
      "metadata": {
        "colab": {
          "base_uri": "https://localhost:8080/"
        },
        "id": "OOWKg8xUZY3N",
        "outputId": "af7267c8-8656-400c-e818-06ad7d3c611f"
      },
      "source": [
        "if (myList):\n",
        "  print(\"list is not empty\")\n",
        "else:\n",
        "  print(\"list is empty\")"
      ],
      "execution_count": 7,
      "outputs": [
        {
          "output_type": "stream",
          "text": [
            "list is not empty\n"
          ],
          "name": "stdout"
        }
      ]
    },
    {
      "cell_type": "code",
      "metadata": {
        "colab": {
          "base_uri": "https://localhost:8080/"
        },
        "id": "xe0CcSRoaH7_",
        "outputId": "b6e67e67-0aa9-4a19-d2e0-47b59b0cee87"
      },
      "source": [
        "if (myList2):\n",
        "  print(\"list is not empty\")\n",
        "else:\n",
        "  print(\"list is empty\")"
      ],
      "execution_count": 8,
      "outputs": [
        {
          "output_type": "stream",
          "text": [
            "list is empty\n"
          ],
          "name": "stdout"
        }
      ]
    }
  ]
}