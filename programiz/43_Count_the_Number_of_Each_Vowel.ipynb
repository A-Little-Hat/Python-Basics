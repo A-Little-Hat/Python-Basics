{
  "nbformat": 4,
  "nbformat_minor": 0,
  "metadata": {
    "colab": {
      "name": "43.Count the Number of Each Vowel.ipynb",
      "provenance": [],
      "authorship_tag": "ABX9TyM3uYiPSgcmk5hY8WydDKA5"
    },
    "kernelspec": {
      "name": "python3",
      "display_name": "Python 3"
    },
    "language_info": {
      "name": "python"
    }
  },
  "cells": [
    {
      "cell_type": "code",
      "metadata": {
        "colab": {
          "base_uri": "https://localhost:8080/"
        },
        "id": "2KxEb7A_1GSL",
        "outputId": "ab31c294-2922-4ac0-8345-29a3a23ae631"
      },
      "source": [
        "x=input(\"enter a string : \")"
      ],
      "execution_count": 58,
      "outputs": [
        {
          "output_type": "stream",
          "text": [
            "enter a string : a quick brown fox jumped over the lazy dog.\n"
          ],
          "name": "stdout"
        }
      ]
    },
    {
      "cell_type": "code",
      "metadata": {
        "id": "TYimJPU-1J70"
      },
      "source": [
        "a=0"
      ],
      "execution_count": 59,
      "outputs": []
    },
    {
      "cell_type": "code",
      "metadata": {
        "id": "2nT9yFZy1d-l"
      },
      "source": [
        "e=0"
      ],
      "execution_count": 60,
      "outputs": []
    },
    {
      "cell_type": "code",
      "metadata": {
        "id": "yaaYJVlW1enF"
      },
      "source": [
        "i=0"
      ],
      "execution_count": 61,
      "outputs": []
    },
    {
      "cell_type": "code",
      "metadata": {
        "id": "0_wxhD8_1fRt"
      },
      "source": [
        "o=0"
      ],
      "execution_count": 62,
      "outputs": []
    },
    {
      "cell_type": "code",
      "metadata": {
        "id": "XDPv6Zpl1gPj"
      },
      "source": [
        "u=0"
      ],
      "execution_count": 63,
      "outputs": []
    },
    {
      "cell_type": "code",
      "metadata": {
        "id": "wLx4o2__1g2m"
      },
      "source": [
        "for letter in x:\n",
        "  if(letter=='a'):\n",
        "    a=a+1\n",
        "  if(letter=='e'):\n",
        "    e=e+1\n",
        "  if(letter=='i'):\n",
        "    i=i+1\n",
        "  if(letter=='o'):\n",
        "    o=o+1\n",
        "  if(letter=='u'):\n",
        "    u=u+1"
      ],
      "execution_count": 66,
      "outputs": []
    },
    {
      "cell_type": "code",
      "metadata": {
        "colab": {
          "base_uri": "https://localhost:8080/"
        },
        "id": "9INwEstE2Dsi",
        "outputId": "bd7840d1-757f-488a-f5b6-b9456788cbfa"
      },
      "source": [
        "print(\"a = \", a ,\" e = \", e ,\" i = \", i , \" o = \", o ,\" u = \", u)"
      ],
      "execution_count": 67,
      "outputs": [
        {
          "output_type": "stream",
          "text": [
            "a =  2  e =  3  i =  1  o =  4  u =  2\n"
          ],
          "name": "stdout"
        }
      ]
    },
    {
      "cell_type": "code",
      "metadata": {
        "id": "5BAnx-ct2V7o"
      },
      "source": [
        ""
      ],
      "execution_count": null,
      "outputs": []
    }
  ]
}