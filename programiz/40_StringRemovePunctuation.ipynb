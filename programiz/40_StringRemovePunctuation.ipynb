{
  "nbformat": 4,
  "nbformat_minor": 0,
  "metadata": {
    "colab": {
      "name": "40.StringRemovePunctuation.ipynb",
      "provenance": [],
      "authorship_tag": "ABX9TyPz18t/Mzi3tcKi2+MAzab6"
    },
    "kernelspec": {
      "name": "python3",
      "display_name": "Python 3"
    },
    "language_info": {
      "name": "python"
    }
  },
  "cells": [
    {
      "cell_type": "code",
      "metadata": {
        "colab": {
          "base_uri": "https://localhost:8080/"
        },
        "id": "AqPeGESvt0la",
        "outputId": "fa9e684b-15cf-4a10-840a-56bdf9bbc488"
      },
      "source": [
        "x=input(\"enter a string\")"
      ],
      "execution_count": 20,
      "outputs": [
        {
          "output_type": "stream",
          "text": [
            "enter a stringhe./././././ll./...';';';][][o\n",
            "hello\n"
          ],
          "name": "stdout"
        }
      ]
    },
    {
      "cell_type": "code",
      "metadata": {
        "id": "HMKXg15hwX1m"
      },
      "source": [
        "def Punctuation(string):\n",
        "\tpunctuations = '''!()-[]{};:'\"\\,<>./?@#$%^&*_~'''\n",
        "\tfor x in string.lower():\n",
        "\t\tif x in punctuations:\n",
        "\t\t\tstring = string.replace(x, \"\")\n",
        "\tprint(string)"
      ],
      "execution_count": 22,
      "outputs": []
    },
    {
      "cell_type": "code",
      "metadata": {
        "colab": {
          "base_uri": "https://localhost:8080/"
        },
        "id": "298Tpkk9wcDc",
        "outputId": "01f6fea8-fa27-490f-efec-965525b50013"
      },
      "source": [
        "Punctuation(x)"
      ],
      "execution_count": 24,
      "outputs": [
        {
          "output_type": "stream",
          "text": [
            "hello\n"
          ],
          "name": "stdout"
        }
      ]
    }
  ]
}