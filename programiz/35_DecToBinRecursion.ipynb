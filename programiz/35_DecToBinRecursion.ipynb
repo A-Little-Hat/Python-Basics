{
  "nbformat": 4,
  "nbformat_minor": 0,
  "metadata": {
    "colab": {
      "name": "35.DecToBinRecursion.ipynb",
      "provenance": [],
      "authorship_tag": "ABX9TyML8wd8FiPgRrMLqxzVzher"
    },
    "kernelspec": {
      "name": "python3",
      "display_name": "Python 3"
    },
    "language_info": {
      "name": "python"
    }
  },
  "cells": [
    {
      "cell_type": "code",
      "metadata": {
        "colab": {
          "base_uri": "https://localhost:8080/"
        },
        "id": "RSzpSPPfWixL",
        "outputId": "e2d8c1c1-9154-4efc-95b5-8b71478ed605"
      },
      "source": [
        "dec=int(input(\"enter a number \"))\n",
        "def convertToBinary(n):\n",
        "   if n > 1:\n",
        "       convertToBinary(n//2)\n",
        "   print(n % 2,end = '')\n",
        "convertToBinary(dec)\n",
        "print()"
      ],
      "execution_count": 2,
      "outputs": [
        {
          "output_type": "stream",
          "text": [
            "enter a number 10\n",
            "1010\n"
          ],
          "name": "stdout"
        }
      ]
    }
  ]
}