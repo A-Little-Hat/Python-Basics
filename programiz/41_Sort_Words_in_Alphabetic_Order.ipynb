{
  "nbformat": 4,
  "nbformat_minor": 0,
  "metadata": {
    "colab": {
      "name": "41.Sort Words in Alphabetic Order.ipynb",
      "provenance": [],
      "authorship_tag": "ABX9TyPu79IJL7RXZLpepOK9ua6L"
    },
    "kernelspec": {
      "name": "python3",
      "display_name": "Python 3"
    },
    "language_info": {
      "name": "python"
    }
  },
  "cells": [
    {
      "cell_type": "code",
      "metadata": {
        "colab": {
          "base_uri": "https://localhost:8080/"
        },
        "id": "M8ROzuAvyNkZ",
        "outputId": "ceff437b-93b3-4664-9cfd-6c0f72a9b7e9"
      },
      "source": [
        "x=input(\"enter a string :\")"
      ],
      "execution_count": 46,
      "outputs": [
        {
          "output_type": "stream",
          "text": [
            "enter a string :hello I'm Soumyaneel. I am a intermediate programmer.\n"
          ],
          "name": "stdout"
        }
      ]
    },
    {
      "cell_type": "code",
      "metadata": {
        "id": "9J0S2bNUy9hx"
      },
      "source": [
        "words = [word.lower() for word in x.split()]"
      ],
      "execution_count": 47,
      "outputs": []
    },
    {
      "cell_type": "code",
      "metadata": {
        "id": "ttFpQBzvzJKm"
      },
      "source": [
        "words.sort()"
      ],
      "execution_count": 48,
      "outputs": []
    },
    {
      "cell_type": "code",
      "metadata": {
        "colab": {
          "base_uri": "https://localhost:8080/"
        },
        "id": "L63ZXv_fzReJ",
        "outputId": "9cf462ee-e685-47a3-d830-42913c2f3daa"
      },
      "source": [
        "print(\"The sorted words are:\")\n",
        "for word in words:\n",
        "   print(word,\" \",end='')"
      ],
      "execution_count": 50,
      "outputs": [
        {
          "output_type": "stream",
          "text": [
            "The sorted words are:\n",
            "a  am  hello  i  i'm  intermediate  programmer.  soumyaneel.  "
          ],
          "name": "stdout"
        }
      ]
    }
  ]
}