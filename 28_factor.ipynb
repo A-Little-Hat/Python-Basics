{
  "nbformat": 4,
  "nbformat_minor": 0,
  "metadata": {
    "colab": {
      "name": "28.factor.ipynb",
      "provenance": [],
      "authorship_tag": "ABX9TyPS5GlUs3ZJFcK2jqlHdIjn",
      "include_colab_link": true
    },
    "kernelspec": {
      "name": "python3",
      "display_name": "Python 3"
    },
    "language_info": {
      "name": "python"
    }
  },
  "cells": [
    {
      "cell_type": "code",
      "metadata": {
        "colab": {
          "base_uri": "https://localhost:8080/"
        },
        "id": "XuR_7UBFTx8Z",
        "outputId": "a5b079c3-0402-4819-b53a-0370da667952"
      },
      "source": [
        "n=int(input(\"enter the number\"))"
      ],
      "execution_count": 6,
      "outputs": [
        {
          "output_type": "stream",
          "text": [
            "enter the number10\n"
          ],
          "name": "stdout"
        }
      ]
    },
    {
      "cell_type": "code",
      "metadata": {
        "colab": {
          "base_uri": "https://localhost:8080/"
        },
        "id": "SQZ9SXaeUDaY",
        "outputId": "48dd3fd9-99a2-436e-f731-68e2628c0647"
      },
      "source": [
        "for i in range(1,n+1):\n",
        "  if(n%i==0):\n",
        "    print(i,\" \",end='')"
      ],
      "execution_count": 7,
      "outputs": [
        {
          "output_type": "stream",
          "text": [
            "1  2  5  10  "
          ],
          "name": "stdout"
        }
      ]
    }
  ]
}